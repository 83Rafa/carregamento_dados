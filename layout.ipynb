{
 "cells": [
  {
   "cell_type": "markdown",
   "id": "e2e53cd9-86f6-497f-bc12-01cc44c71882",
   "metadata": {},
   "source": [
    "# Layout de Um Projeto de Ciência de Dados"
   ]
  },
  {
   "cell_type": "markdown",
   "id": "7974dba8-c345-462d-a1fd-b024846da179",
   "metadata": {},
   "source": [
    "## Bibliotecas"
   ]
  },
  {
   "cell_type": "code",
   "execution_count": null,
   "id": "2d0b2cff-ad65-40fe-9b6b-511c80f8a1e8",
   "metadata": {},
   "outputs": [],
   "source": []
  },
  {
   "cell_type": "markdown",
   "id": "fb8e5d67-c575-40a2-af6d-f5e9853bbbc1",
   "metadata": {},
   "source": [
    "## Carregamento dos Dados"
   ]
  },
  {
   "cell_type": "markdown",
   "id": "b2a66249-457f-4153-8d34-9a0960f10941",
   "metadata": {},
   "source": [
    "### Importação da Base da Dados"
   ]
  },
  {
   "cell_type": "code",
   "execution_count": null,
   "id": "a92dc84f-86ce-4e35-882b-ae91d2031419",
   "metadata": {},
   "outputs": [],
   "source": []
  },
  {
   "cell_type": "markdown",
   "id": "4b8fc713-7724-4fb5-affa-dab5421b39b3",
   "metadata": {},
   "source": [
    "### Tipos de Variáveis"
   ]
  },
  {
   "cell_type": "code",
   "execution_count": null,
   "id": "21da4350-fa81-4d58-80a7-888b4dce98cb",
   "metadata": {},
   "outputs": [],
   "source": []
  },
  {
   "cell_type": "markdown",
   "id": "761942ef-5c06-418b-9be3-43fe83177a82",
   "metadata": {
    "jp-MarkdownHeadingCollapsed": true,
    "tags": []
   },
   "source": [
    "## Preparação dos Dados"
   ]
  },
  {
   "cell_type": "markdown",
   "id": "9e5208b9-3b7d-4728-9844-7513d48d474c",
   "metadata": {},
   "source": [
    "### Dados Faltantes"
   ]
  },
  {
   "cell_type": "code",
   "execution_count": null,
   "id": "de0447ff-cd5d-4005-baf1-3011a479072b",
   "metadata": {},
   "outputs": [],
   "source": []
  },
  {
   "cell_type": "markdown",
   "id": "bb19dff2-acfc-4584-8b2c-d75ddea7b019",
   "metadata": {},
   "source": [
    "### Dados Duplicados"
   ]
  },
  {
   "cell_type": "code",
   "execution_count": null,
   "id": "19bd1b36-d2cd-4b7b-b50d-54af35196264",
   "metadata": {},
   "outputs": [],
   "source": []
  },
  {
   "cell_type": "markdown",
   "id": "61135fc4-461c-4aca-a185-8d68a7ba157e",
   "metadata": {},
   "source": [
    "### Padronização dos Dados"
   ]
  },
  {
   "cell_type": "code",
   "execution_count": null,
   "id": "4c8b91ab-acb8-426c-a2aa-746d52ddf6c7",
   "metadata": {},
   "outputs": [],
   "source": []
  },
  {
   "cell_type": "markdown",
   "id": "cdf20f51-38c7-44d0-b8fa-4a5c282473f7",
   "metadata": {},
   "source": [
    "### Correção de Tipagem dos Dados"
   ]
  },
  {
   "cell_type": "code",
   "execution_count": null,
   "id": "a1ddbd66-6e35-4097-816d-ec27187bebb4",
   "metadata": {},
   "outputs": [],
   "source": []
  },
  {
   "cell_type": "markdown",
   "id": "cf018a44-9d17-4c0d-b9da-ff7170709bc8",
   "metadata": {
    "tags": []
   },
   "source": [
    "## Análise Exploratória de Dados"
   ]
  },
  {
   "cell_type": "code",
   "execution_count": null,
   "id": "2713e797-2e35-4389-b7d2-a3913753247d",
   "metadata": {},
   "outputs": [],
   "source": []
  },
  {
   "cell_type": "markdown",
   "id": "5588e1c1-7233-4b97-8c55-c0dd6b394b6b",
   "metadata": {},
   "source": [
    "## Importância das Variáveis\n",
    "Análise IV"
   ]
  },
  {
   "cell_type": "code",
   "execution_count": null,
   "id": "52c5a030-5d84-4029-bf4a-afb269d0bd34",
   "metadata": {},
   "outputs": [],
   "source": []
  },
  {
   "cell_type": "markdown",
   "id": "e2171a44-9312-4378-9ffe-5c0b5710025e",
   "metadata": {},
   "source": [
    "## Análise de Correlação"
   ]
  },
  {
   "cell_type": "code",
   "execution_count": null,
   "id": "3583d517-6d34-4883-b296-08e0bc15fa05",
   "metadata": {},
   "outputs": [],
   "source": []
  },
  {
   "cell_type": "markdown",
   "id": "fd38d5da-62b0-44e3-bf92-6f40ec3d0c5d",
   "metadata": {},
   "source": [
    "## Dispersão Por Classe"
   ]
  },
  {
   "cell_type": "code",
   "execution_count": null,
   "id": "35aa970e-1174-46d3-a89e-bc0e28917e9e",
   "metadata": {},
   "outputs": [],
   "source": []
  },
  {
   "cell_type": "markdown",
   "id": "4af8164a-1bf0-48dc-9b52-99021ec71ff4",
   "metadata": {},
   "source": [
    "## Análise de Correlação\n",
    "Correlação Lenear de Pearson com sns.heatmap"
   ]
  },
  {
   "cell_type": "code",
   "execution_count": null,
   "id": "e9fbaf3e-5374-4f82-971e-6bb3232092a7",
   "metadata": {},
   "outputs": [],
   "source": []
  },
  {
   "cell_type": "markdown",
   "id": "21cec63e-a304-42a7-82bd-b17b3ff7be59",
   "metadata": {},
   "source": [
    "## Relatórios Pandas Profiling e SweetViz"
   ]
  },
  {
   "cell_type": "code",
   "execution_count": null,
   "id": "3cc6d999-4ce1-422d-9aa3-f32d17e5639e",
   "metadata": {},
   "outputs": [],
   "source": []
  },
  {
   "cell_type": "markdown",
   "id": "dc0f3997-e7fb-4a08-a647-96913be73755",
   "metadata": {},
   "source": [
    "## Distribuição da classe *Target*\n",
    "Para analisar o equilíbrio da classe"
   ]
  },
  {
   "cell_type": "markdown",
   "id": "0331aaea-b431-469e-b3c1-36b2476ab768",
   "metadata": {
    "tags": []
   },
   "source": [
    "## Desenvolvimento de um Modelo Base\n",
    "Você sempre pode treinar um ou mais modelos com a configuração padrão para ter uma ideia de desempenho. Por exemplo, um modelo de **Regressão Logistica**, um de **Árvores de Decisão**, um de **Redes Neurais** e observar  métricas como **R²**, **Acuáracia**, **Curvas ROC**, **KS**, **Precision** e **Recall**"
   ]
  },
  {
   "cell_type": "code",
   "execution_count": null,
   "id": "d31f1bdb-6d9e-498c-97fc-16f28e00ff1a",
   "metadata": {},
   "outputs": [],
   "source": []
  },
  {
   "cell_type": "markdown",
   "id": "fbfd01ab-0450-4189-86a5-618298d38dd8",
   "metadata": {},
   "source": [
    "### Definição do *Target* e das *Features*"
   ]
  },
  {
   "cell_type": "code",
   "execution_count": null,
   "id": "925f00d0-525f-4250-beb0-65398bcefba7",
   "metadata": {},
   "outputs": [],
   "source": []
  },
  {
   "cell_type": "markdown",
   "id": "6b596361-57aa-4378-a430-2f3cb654184c",
   "metadata": {},
   "source": [
    "### Pré-processamento: Variáveis *Dummies*"
   ]
  },
  {
   "cell_type": "code",
   "execution_count": null,
   "id": "30f17317-90a5-4d15-970d-af62f02da0e9",
   "metadata": {},
   "outputs": [],
   "source": []
  },
  {
   "cell_type": "markdown",
   "id": "ff012497-409c-48ab-9643-88ecf7f208e6",
   "metadata": {},
   "source": [
    "### Divisão em treino, validação e teste"
   ]
  },
  {
   "cell_type": "code",
   "execution_count": null,
   "id": "4a0aee83-027f-4aaa-b1ed-e3af9da162c9",
   "metadata": {},
   "outputs": [],
   "source": []
  },
  {
   "cell_type": "markdown",
   "id": "e7798eb3-d54f-4008-83ee-66acf1741f55",
   "metadata": {},
   "source": [
    "### Escolha e Treinamento do Modelo"
   ]
  },
  {
   "cell_type": "code",
   "execution_count": null,
   "id": "5005b1e0-9375-4232-a8d5-4ce468531df5",
   "metadata": {},
   "outputs": [],
   "source": []
  },
  {
   "cell_type": "markdown",
   "id": "7392c28b-107d-48a2-ad4f-8b3e20f94e4f",
   "metadata": {},
   "source": [
    "### Interpretação do Modelo\n",
    "\n",
    "**Regressão Linear:** Métricas como **R²**, **R² ajustado** e **p-valor** ajudam a avaliar o ajuste do modelo e a significância das variáveis.\n",
    "\n",
    "**Árvores de Decisão:** Visualize a árvore para entender como as decisões são tomadas em cada nó. **DTreeViz** é exelente para isso.\n",
    "\n",
    "Redes Neurais (As redes neurais são mais complexas, mas podem aprender relações não lineares): Avalie a **importância dos pesos** das conexões entre neurônios.\n",
    "Ferramentas como **SHAP** podem ajudar a explicar as previsões de redes neurais."
   ]
  },
  {
   "cell_type": "code",
   "execution_count": null,
   "id": "03dba19b-c927-48d2-830c-4d53a5b22ac3",
   "metadata": {},
   "outputs": [],
   "source": []
  },
  {
   "cell_type": "markdown",
   "id": "ebe37f7d-cdd6-4bf0-92e4-6a185a7479c5",
   "metadata": {
    "tags": []
   },
   "source": [
    "## Desenvolvimento de Modelo"
   ]
  },
  {
   "cell_type": "code",
   "execution_count": null,
   "id": "86ae25a4-c290-4d82-9db2-49085764b2bd",
   "metadata": {},
   "outputs": [],
   "source": []
  },
  {
   "cell_type": "markdown",
   "id": "7d693872-8690-4005-b494-672d85a4f789",
   "metadata": {},
   "source": [
    "### Definição do *Target* e das *Features*"
   ]
  },
  {
   "cell_type": "code",
   "execution_count": null,
   "id": "f975d6f2-7698-4422-8dd6-784b7fcccbcc",
   "metadata": {},
   "outputs": [],
   "source": []
  },
  {
   "cell_type": "markdown",
   "id": "81d6eafd-a37f-4594-9641-b93989b87cc3",
   "metadata": {},
   "source": [
    "### Codificação das Variáveis Categóricas: Variáveis *Dummies*"
   ]
  },
  {
   "cell_type": "code",
   "execution_count": null,
   "id": "c0f3067c-7107-45e4-b199-003b029fabad",
   "metadata": {},
   "outputs": [],
   "source": []
  },
  {
   "cell_type": "markdown",
   "id": "7b8f74dc-9741-452a-82c2-285050d4e387",
   "metadata": {},
   "source": [
    "### Divisão em treino, validação e teste"
   ]
  },
  {
   "cell_type": "code",
   "execution_count": null,
   "id": "0e350c79-2a81-4943-b7f3-9f37977e1e7e",
   "metadata": {},
   "outputs": [],
   "source": []
  },
  {
   "cell_type": "markdown",
   "id": "98141a5d-1395-456d-bb38-8f564b424ff5",
   "metadata": {},
   "source": [
    "### Padronização da Escala (Quando necessário)\n",
    "Especialmente para modelos de Redes Neurais"
   ]
  },
  {
   "cell_type": "code",
   "execution_count": null,
   "id": "c811d626-2f35-49fa-a1d7-34f65b57bca9",
   "metadata": {},
   "outputs": [],
   "source": []
  },
  {
   "cell_type": "markdown",
   "id": "2e65aa16-72b9-4e29-90f2-468247004a3b",
   "metadata": {},
   "source": [
    "### Amostras Desbalanceadas (Quando necessário)\n",
    "Quando a classe ***Target*** estiver muito desbalanceada, aplicar técnicas como **oversampling**, **undersampling** ou **SMOTE**.\n",
    "\n",
    "A reamostragem deve ser feita **APENAS** na base de **Treino**"
   ]
  },
  {
   "cell_type": "code",
   "execution_count": null,
   "id": "3877fa51-6079-4cb6-813a-0d84a9c390c1",
   "metadata": {},
   "outputs": [],
   "source": []
  },
  {
   "cell_type": "markdown",
   "id": "f32d195a-a1eb-4782-bf78-212620a954f2",
   "metadata": {},
   "source": [
    "### Escolha e Treinamento do Modelo"
   ]
  },
  {
   "cell_type": "code",
   "execution_count": null,
   "id": "7ca765ec-f92b-481d-be97-ee7d0e21cb6d",
   "metadata": {},
   "outputs": [],
   "source": []
  },
  {
   "cell_type": "markdown",
   "id": "083ae253-4a82-47aa-a092-3cdb95c1c813",
   "metadata": {},
   "source": [
    "### Avaliação do Modelo Treinado\n",
    "\n",
    "Modelos de Regressão -> ***summary*** da biblioteca ***statsmodel***\n",
    "\n",
    "Modelos de Classificação -> Gráficos com ***SeaBorn*** e ***DTreeViz***"
   ]
  },
  {
   "cell_type": "code",
   "execution_count": null,
   "id": "b8ab45d1-8b24-4d82-a767-70b8ec6ed426",
   "metadata": {},
   "outputs": [],
   "source": []
  },
  {
   "cell_type": "markdown",
   "id": "8646720d-535d-4c06-b9c3-7769ed59635e",
   "metadata": {},
   "source": [
    "### Treinamneto de um Modelo Explorando de Hiperparâmetros\n",
    "Esse é o exemplo perfeito do porque se chama Ciência de Dados, não se trata de desenvolver um modelo e pronto. O melhor modelo exige exploração de diferentes combinações não só de hiperparâmetros, mas muitas vezes de variáveis, da tipagem de uma variável etc."
   ]
  },
  {
   "cell_type": "code",
   "execution_count": null,
   "id": "9809f26a-bb8e-4278-adcf-588c38a81435",
   "metadata": {},
   "outputs": [],
   "source": []
  },
  {
   "cell_type": "markdown",
   "id": "dff0944e-ce9a-49d7-b410-199b2f7ae17e",
   "metadata": {},
   "source": [
    "### Avaliação do Modelo Treinado"
   ]
  },
  {
   "cell_type": "code",
   "execution_count": null,
   "id": "d47432ca-1c2c-4480-a99b-17faaa9145a6",
   "metadata": {},
   "outputs": [],
   "source": []
  },
  {
   "cell_type": "markdown",
   "id": "c6d98353-6fd9-4f7a-b2c0-f44d835f308d",
   "metadata": {},
   "source": [
    "### Validação do Modelo\n",
    "- Use particionamento (por exemplo, **k-fold cross-validation**) para avaliar o desempenho.\n",
    "- Explore diferentes métricas (precisão, recall) para entender o trade-off."
   ]
  },
  {
   "cell_type": "code",
   "execution_count": null,
   "id": "d0e39610-6042-4b7d-9a94-41efbd46668c",
   "metadata": {},
   "outputs": [],
   "source": []
  },
  {
   "cell_type": "markdown",
   "id": "ea9d3b1a-52c6-4c2b-87f3-59b630f1d705",
   "metadata": {},
   "source": [
    "### Diagnósticos do Modelo\n",
    "- Analise resíduos, curvas ROC, matriz de confusão e outros gráficos.\n",
    "- Identifique possíveis problemas e ajuste o modelo conforme necessário."
   ]
  },
  {
   "cell_type": "code",
   "execution_count": null,
   "id": "27514169-1d54-4840-ae99-1aed1d7c0536",
   "metadata": {},
   "outputs": [],
   "source": []
  },
  {
   "cell_type": "markdown",
   "id": "015f6587-16bf-4863-85ae-b3a5b62f88e5",
   "metadata": {},
   "source": [
    "### Detecção de Anomalias (Quando necessário)\n",
    "- Métodos como **Isolation Forest** ou **DBSCAN** para identificar observações incomuns."
   ]
  },
  {
   "cell_type": "code",
   "execution_count": null,
   "id": "74cefe3c-fddf-4a50-b7d9-722daff37ea6",
   "metadata": {},
   "outputs": [],
   "source": []
  },
  {
   "cell_type": "markdown",
   "id": "40f7063d-bffd-444d-8162-1a1c3e83b166",
   "metadata": {},
   "source": [
    "### Salvamento do Modelo"
   ]
  },
  {
   "cell_type": "code",
   "execution_count": null,
   "id": "3266d3f4-9712-481e-be32-b4f92c68313c",
   "metadata": {},
   "outputs": [],
   "source": []
  },
  {
   "cell_type": "markdown",
   "id": "2f409979-94f1-4161-9fa3-0c7376302923",
   "metadata": {},
   "source": [
    "### Teste do Modelo\n",
    "Aplicação do modelo na base de testes"
   ]
  },
  {
   "cell_type": "code",
   "execution_count": null,
   "id": "9556e26c-c123-4cfc-a3e8-72ee1a27f400",
   "metadata": {},
   "outputs": [],
   "source": []
  },
  {
   "cell_type": "markdown",
   "id": "24b4f925-fe8f-410c-a5c5-14d3a4904440",
   "metadata": {},
   "source": [
    "### Métodos Ensemble (Quando Necessário)\n",
    "\n",
    "Esse método consiste na combinação de vários modelos para melhorar a robustez e a precisão.\n",
    "- Exemplos incluem **Random Forest**, **Gradient Boosting** e **Stacking**."
   ]
  },
  {
   "cell_type": "code",
   "execution_count": null,
   "id": "f5124265-775a-44b3-846b-8ee81557c3ad",
   "metadata": {},
   "outputs": [],
   "source": []
  },
  {
   "cell_type": "markdown",
   "id": "ee7e6bd1-c50a-450d-9bc7-3c6177abc30c",
   "metadata": {},
   "source": [
    "## Deploy do Modelo"
   ]
  },
  {
   "cell_type": "code",
   "execution_count": null,
   "id": "6375128f-d423-4335-b5df-997ab42aa235",
   "metadata": {},
   "outputs": [],
   "source": []
  }
 ],
 "metadata": {
  "kernelspec": {
   "display_name": "Python 3 (ipykernel)",
   "language": "python",
   "name": "python3"
  },
  "language_info": {
   "codemirror_mode": {
    "name": "ipython",
    "version": 3
   },
   "file_extension": ".py",
   "mimetype": "text/x-python",
   "name": "python",
   "nbconvert_exporter": "python",
   "pygments_lexer": "ipython3",
   "version": "3.8.3"
  }
 },
 "nbformat": 4,
 "nbformat_minor": 5
}
